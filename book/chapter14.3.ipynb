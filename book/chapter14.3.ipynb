{
 "cells": [
  {
   "cell_type": "markdown",
   "metadata": {},
   "source": [
    "14.3 Boosting"
   ]
  },
  {
   "cell_type": "markdown",
   "metadata": {},
   "source": [
    "부스팅은 여러 '기저' 분류기들을 조합해서 단일 기저 분류기에 비해 훨씬 더 나은 성능을 보이는 위원회를 구성하는 테크닉이다. <br>\n",
    "부스팅은 (그 어떤 기저 분류기 보다 월등히 좋은 성능을 내는) 위원회를 만드는 방식으로 여러 기저 분류기를 조합하는 강력한 테크닉이다.  <br>\n",
    "Boosting is a powerful technique for combining multiple base classifiers to produce a form of committee whose performance can be significantly better than that of any of the base classifiers."
   ]
  },
  {
   "cell_type": "markdown",
   "metadata": {},
   "source": [
    "여기서는 가장 널리 사용되는 부스팅 알고리즘으로서 Freund and Schapire(1996)에 의해 개발된 에이다부스트(AdaBoost)를 살펴볼 것이다. 이름은 적응적 부스팅의 약자다. <br>\n",
    "Here we describe the most widely used form of boosting algorithm called AdaBoost, short for adaptive boosting, developed by Freund and Schapire (1996)."
   ]
  },
  {
   "cell_type": "markdown",
   "metadata": {},
   "source": [
    "기저 분류기들이 랜덤보다 아주 약간만 나은 성능을 보이더라도 부스팅을 적용하면 좋은 결과를 얻을 수 있다. 그렇기 때문에 이 경우의 기저 분류기들을 종종 약학습기라 지칭한다. <br>\n",
    "Boosting can give good results even if the base classifiers have a performance that is only slightly better than random, and hense sometimes the base classifiers are known as weak learners."
   ]
  },
  {
   "cell_type": "markdown",
   "metadata": {},
   "source": [
    "부스팅은 원래 분류 문제를 푸는 목적으로 만들어졌지만 회귀 문제를 푸는 데도 활용할 수 있다(Friedman, 2001). <br>\n",
    "Originally designed for solving classification problems, boosting can also be extended to regression (Friedman, 2001)."
   ]
  },
  {
   "cell_type": "markdown",
   "metadata": {},
   "source": [
    "위에서 살펴본 배깅 등의 위원회 방법과 부스팅 방법 사이의 주된 차이점은 부스팅 방법에서는 기저 분류기들이 순차적으로 훈련된다는 것이다. 이 때 각 기저 분류기들은 가중된 형태의 데이터 집합을 이용해서 훈련되며, 가중 계수들은 이전 분류기의 결과에 의해 결정된다. <br>\n",
    "The principal difference between boosting and the committee methods such as bagging discussed above, is that the base classifiers are trained in sequence, and each base classifier is trained using a weighted form of the data set in which the weighting coefficient associated with each data point depends on the performance of the previous classifiers.\n"
   ]
  },
  {
   "cell_type": "markdown",
   "metadata": {},
   "source": [
    "특히, 기본 분류기 중 하나에 의해 잘못 분류 된 포인트는 시퀀스에서 다음 분류기를 훈련하는 데 사용될 때 더 큰 가중치가 부여됩니다. <br>\n",
    "기저 분류기 중 하나에 의해 오분류된 포인트들은 배열상에서의 다음 기저 분류기의 훈련에 사용될 때 더 큰 가중치를 부여받는다. <br>\n",
    "In particular, points that are misclassified by one of the base classifiers are given greater weight when used to train the next classifier in the sequence."
   ]
  },
  {
   "cell_type": "markdown",
   "metadata": {},
   "source": [
    "모든 분류 기가 학습되면 그림 14.1에 개략적으로 설명 된대로 가중치가 적용된 과반수 투표 방식을 통해 예측이 결합됩니다. <br>\n",
    "모든 분류기들을 훈련하고 나면 각 분류기들의 예측치를 가중된 다수결 방식으로 조합한다. 이에 대해 그림 14.1에 그려져 있다. <br>\n",
    "Once all the classifiers have been trained, their predictions are then combined through a weighted majority voting scheme, as illustrated schematically in Figure 14.1."
   ]
  },
  {
   "cell_type": "markdown",
   "metadata": {},
   "source": [
    "학습 데이터가 입력 벡터 x1, ..., xN과 해당 바이너리 대상 변수 t1, ..., tN (여기서 tn ∈ {−1, 1})을 포함하는 2- 클래스 분류 문제를 생각해보십시오. <br>\n",
    "2클래스 분류 문제를 고려해 보자. 훈련 데이터는 입력 벡터 x1, ..., xN과 해당 이진 타깃 변수 t1, ..., tN으로 구성되어 있으며, 이 때 $t_n \\in \\{-1, 1\\}$이다. <br>\n",
    "Consider a two-class classification problem, in which the training data comprises input vectors x1,...,xN along with corresponding binary target variables t1,...,tN where $t_N \\in \\{-1, 1\\}$."
   ]
  },
  {
   "cell_type": "markdown",
   "metadata": {},
   "source": [
    "각 데이터 포인트에는 연관된 가중치 매개 변수 wn이 주어지며, 이는 처음에 모든 데이터 포인트에 대해 1 / N으로 설정됩니다. <br>\n",
    "각 데이터 포인트들은 가중 매개변수 wn을 부여받으며, 매개변수들은 1/N으로 초기화된다. <br>\n",
    "Each data point is given an associated weighting parameter wn, which is initially set 1/N for all data points."
   ]
  },
  {
   "cell_type": "markdown",
   "metadata": {},
   "source": [
    "가중 데이터를 사용하여 함수 y (x) ∈ {-1, 1}을 제공하는 기본 분류기를 훈련 할 수있는 절차가 있다고 가정합니다. "
   ]
  },
  {
   "cell_type": "markdown",
   "metadata": {},
   "source": [
    "알고리즘의 각 단계에서 AdaBoost는 잘못 분류 된 데이터 포인트에 더 큰 가중치를 부여하기 위해 이전에 훈련 된 분류기의 성능에 따라 가중치 계수가 조정되는 데이터 세트를 사용하여 새로운 분류기를 훈련합니다. "
   ]
  },
  {
   "cell_type": "markdown",
   "metadata": {},
   "source": [
    "마지막으로 원하는 수의 기본 분류 기가 훈련되면 결합되어 서로 다른 기본 분류기에 다른 가중치를 부여하는 계수를 사용하여위원회를 구성합니다. "
   ]
  },
  {
   "cell_type": "markdown",
   "metadata": {},
   "source": [
    "AdaBoost 알고리즘의 정확한 형식은 다음과 같습니다."
   ]
  },
  {
   "cell_type": "markdown",
   "metadata": {},
   "source": []
  },
  {
   "cell_type": "markdown",
   "metadata": {},
   "source": []
  },
  {
   "cell_type": "markdown",
   "metadata": {},
   "source": []
  },
  {
   "cell_type": "markdown",
   "metadata": {},
   "source": []
  },
  {
   "cell_type": "markdown",
   "metadata": {},
   "source": []
  },
  {
   "cell_type": "markdown",
   "metadata": {},
   "source": []
  },
  {
   "cell_type": "markdown",
   "metadata": {},
   "source": []
  },
  {
   "cell_type": "markdown",
   "metadata": {},
   "source": []
  },
  {
   "cell_type": "markdown",
   "metadata": {},
   "source": []
  },
  {
   "cell_type": "markdown",
   "metadata": {},
   "source": []
  },
  {
   "cell_type": "markdown",
   "metadata": {},
   "source": []
  },
  {
   "cell_type": "markdown",
   "metadata": {},
   "source": []
  },
  {
   "cell_type": "markdown",
   "metadata": {},
   "source": []
  },
  {
   "cell_type": "markdown",
   "metadata": {},
   "source": []
  },
  {
   "cell_type": "code",
   "execution_count": null,
   "metadata": {},
   "outputs": [],
   "source": []
  }
 ],
 "metadata": {
  "kernelspec": {
   "display_name": "tf2",
   "language": "python",
   "name": "tf2"
  },
  "language_info": {
   "codemirror_mode": {
    "name": "ipython",
    "version": 3
   },
   "file_extension": ".py",
   "mimetype": "text/x-python",
   "name": "python",
   "nbconvert_exporter": "python",
   "pygments_lexer": "ipython3",
   "version": "3.7.3"
  },
  "toc": {
   "base_numbering": 1,
   "nav_menu": {},
   "number_sections": true,
   "sideBar": true,
   "skip_h1_title": false,
   "title_cell": "Table of Contents",
   "title_sidebar": "Contents",
   "toc_cell": false,
   "toc_position": {},
   "toc_section_display": true,
   "toc_window_display": false
  }
 },
 "nbformat": 4,
 "nbformat_minor": 4
}
